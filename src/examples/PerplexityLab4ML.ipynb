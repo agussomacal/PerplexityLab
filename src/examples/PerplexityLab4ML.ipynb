{
 "cells": [
  {
   "cell_type": "markdown",
   "metadata": {},
   "source": [
    "# PerplexityLab for Machine Learning\n",
    "\n",
    "Let's see how PerplexityLab can help us to quickly develop and analyse a typical Machine Learning pipeline.\n",
    "\n",
    "The objective will be to study how the number of training examples, layers and neurons of a multilayer perceptron impact in its approximation power. We will test this pipeline on the MNIST dataset just to make thigs more familiar."
   ]
  },
  {
   "cell_type": "code",
   "execution_count": 1,
   "metadata": {},
   "outputs": [
    {
     "name": "stdout",
     "output_type": "stream",
     "text": [
      "Requirement already satisfied: scikit-learn in /home/crux/Repositories/GitHub/PerplexityLab/venv/lib/python3.8/site-packages (1.2.2)\n",
      "Requirement already satisfied: numpy>=1.17.3 in /home/crux/Repositories/GitHub/PerplexityLab/venv/lib/python3.8/site-packages (from scikit-learn) (1.24.2)\n",
      "Requirement already satisfied: threadpoolctl>=2.0.0 in /home/crux/Repositories/GitHub/PerplexityLab/venv/lib/python3.8/site-packages (from scikit-learn) (3.1.0)\n",
      "Requirement already satisfied: scipy>=1.3.2 in /home/crux/Repositories/GitHub/PerplexityLab/venv/lib/python3.8/site-packages (from scikit-learn) (1.10.1)\n",
      "Requirement already satisfied: joblib>=1.1.1 in /home/crux/Repositories/GitHub/PerplexityLab/venv/lib/python3.8/site-packages (from scikit-learn) (1.2.0)\n",
      "\n",
      "\u001b[1m[\u001b[0m\u001b[34;49mnotice\u001b[0m\u001b[1;39;49m]\u001b[0m\u001b[39;49m A new release of pip is available: \u001b[0m\u001b[31;49m23.0\u001b[0m\u001b[39;49m -> \u001b[0m\u001b[32;49m23.1.1\u001b[0m\n",
      "\u001b[1m[\u001b[0m\u001b[34;49mnotice\u001b[0m\u001b[1;39;49m]\u001b[0m\u001b[39;49m To update, run: \u001b[0m\u001b[32;49mpip install --upgrade pip\u001b[0m\n"
     ]
    }
   ],
   "source": [
    "!pip install scikit-learn"
   ]
  },
  {
   "cell_type": "code",
   "execution_count": 2,
   "metadata": {},
   "outputs": [],
   "source": [
    "%load_ext autoreload"
   ]
  },
  {
   "cell_type": "code",
   "execution_count": 3,
   "metadata": {},
   "outputs": [],
   "source": [
    "import os\n",
    "\n",
    "import numpy as np\n",
    "from sklearn.neural_network import MLPClassifier\n",
    "from sklearn import datasets\n",
    "\n",
    "from src.DataManager import DataManager, JOBLIB\n",
    "from src.LabPipeline import LabPipeline\n",
    "from src.viz_utils import generic_plot"
   ]
  },
  {
   "cell_type": "markdown",
   "metadata": {},
   "source": [
    "### Define experiment\n",
    "\n",
    "First we will load the dataset and write down the definition of what is for us our experiment. The input variables to the function will be the parameters of our project and later we will choose what to try in order to see the behaviour."
   ]
  },
  {
   "cell_type": "code",
   "execution_count": 24,
   "metadata": {
    "pycharm": {
     "name": "#%%\n"
    }
   },
   "outputs": [],
   "source": [
    "def create_dataset(dataset_name: str):\n",
    "    # the input variable \"dataset_name\" is a tring that will be used to retreive the actual dataset.\n",
    "    data = getattr(datasets, f\"load_{dataset_name}\")()\n",
    "    \n",
    "    # the relevant variables of our experiment that we wish to save\n",
    "    return {\n",
    "        \"X\": data.data,\n",
    "        \"y\": data.target\n",
    "    }\n",
    "\n",
    "def run_nn_loop(X, y, p_train, p_test, num_neurons, num_layers, activation, seed):\n",
    "    \"\"\"\n",
    "    From the input variables, all are new except from X and y which are the result of the preprocessing function.\n",
    "    The LabPipeline instance at the moment of running the experiments will automatically search for this variables \n",
    "    and give them as input to this function. For this, the \"preprocessing\" function should be set to run before.\n",
    "    \"\"\"\n",
    "    # Let's define our Perceptron\n",
    "    nn = MLPClassifier(\n",
    "        hidden_layer_sizes=[num_neurons]*num_layers, # here the parameters play their role \n",
    "        activation=activation, # maybe the activation function is relevant\n",
    "        random_state=seed, # to ensure reproducibility,\n",
    "        max_iter=10000,\n",
    "        learning_rate_init=0.1        \n",
    "    )\n",
    "    assert p_train + p_test <= 1, \"Number of train and test examples should not exceed length of dataset.\"\n",
    "    n_train = int(len(y)*p_train)\n",
    "    n_test = int(len(y)*p_test)\n",
    "    nn.fit(X[:n_train], y[:n_train]) # number of train examples to be used\n",
    "    predictions = nn.predict(X[-n_test:]) # predictions\n",
    "    \n",
    "    # the relevant variables of our experiment that we wish to save\n",
    "    return {\n",
    "        \"predictions\": predictions,\n",
    "        \"coefs\": nn.coefs_,\n",
    "        \"intercepts_\": nn.intercepts_\n",
    "    }\n",
    "\n",
    "def calculate_errors(y, predictions):\n",
    "    \"\"\"\n",
    "    Note that for this experiment, the variables are only outputs of previous layers so no new prject \n",
    "    parameter is needed\n",
    "    \"\"\"\n",
    "    return {\n",
    "        \"missclassification_error\": y[-len(predictions):] == predictions # missclassification error.\n",
    "    }"
   ]
  },
  {
   "cell_type": "markdown",
   "metadata": {},
   "source": [
    "### Define Data Manager"
   ]
  },
  {
   "cell_type": "code",
   "execution_count": 25,
   "metadata": {},
   "outputs": [],
   "source": [
    "dm = DataManager(\n",
    "    path=os.getcwd(),\n",
    "    name=\"MLLab\",\n",
    "    format=JOBLIB,\n",
    "    trackCO2=True\n",
    ")"
   ]
  },
  {
   "cell_type": "code",
   "execution_count": 26,
   "metadata": {},
   "outputs": [],
   "source": [
    "lab = LabPipeline()\n",
    "# lab.define_new_block_of_functions(\"preprocessing\", create_dataset)\n",
    "lab.define_new_block_of_functions(\"train\", run_nn_loop)\n",
    "lab.define_new_block_of_functions(\"analysis\", calculate_errors)"
   ]
  },
  {
   "cell_type": "code",
   "execution_count": 34,
   "metadata": {},
   "outputs": [
    {
     "name": "stdout",
     "output_type": "stream",
     "text": [
      "Loading datasetData file in /home/crux/Repositories/GitHub/PerplexityLab/src/examples/MLLab/data.joblib not found.\n",
      "\r",
      " -> duracion Loading dataset: 0.00s\n"
     ]
    },
    {
     "name": "stderr",
     "output_type": "stream",
     "text": [
      "Doing train...: 24it [00:05,  4.74it/s]\n",
      "Doing analysis...: 24it [00:00, 7298.67it/s]\n"
     ]
    }
   ],
   "source": [
    "dm = lab.execute(\n",
    "    datamanager=dm, \n",
    "    num_cores=1, \n",
    "    recalculate=False,\n",
    "    forget=False, \n",
    "    dataset_name=[\"digits\"], \n",
    "    p_train=[0.5, 0.7], \n",
    "    p_test=[0.3], \n",
    "    num_neurons=[1, 10], \n",
    "    num_layers=[1, 2, 4, 8], \n",
    "    activation=[\"relu\", \"tanh\"], \n",
    "    seed=[42]\n",
    ")"
   ]
  },
  {
   "cell_type": "code",
   "execution_count": 37,
   "metadata": {},
   "outputs": [
    {
     "name": "stdout",
     "output_type": "stream",
     "text": [
      "Plot /home/crux/Repositories/GitHub/PerplexityLab/src/examples/MLLab/plot_lineplot_paletteSet1_missclass_vs_num_layers_by_num_neurons_activationrelu.png\n"
     ]
    },
    {
     "data": {
      "image/png": "[encoded data removed]",
      "text/plain": [
       "<Figure size 1000x300 with 2 Axes>"
      ]
     },
     "metadata": {},
     "output_type": "display_data"
    },
    {
     "name": "stdout",
     "output_type": "stream",
     "text": [
      "\r",
      " -> duracion Plot /home/crux/Repositories/GitHub/PerplexityLab/src/examples/MLLab/plot_lineplot_paletteSet1_missclass_vs_num_layers_by_num_neurons_activationrelu.png\n",
      ": 0.46s\n",
      "Plot /home/crux/Repositories/GitHub/PerplexityLab/src/examples/MLLab/plot_lineplot_paletteSet1_missclass_vs_num_layers_by_num_neurons_activationtanh.png\n"
     ]
    },
    {
     "data": {
      "image/png": "[encoded data removed]",
      "text/plain": [
       "<Figure size 1000x300 with 2 Axes>"
      ]
     },
     "metadata": {},
     "output_type": "display_data"
    },
    {
     "name": "stdout",
     "output_type": "stream",
     "text": [
      "\r",
      " -> duracion Plot /home/crux/Repositories/GitHub/PerplexityLab/src/examples/MLLab/plot_lineplot_paletteSet1_missclass_vs_num_layers_by_num_neurons_activationtanh.png\n",
      ": 0.33s\n"
     ]
    },
    {
     "data": {
      "text/plain": [
       "['/home/crux/Repositories/GitHub/PerplexityLab/src/examples/MLLab/plot_lineplot_paletteSet1_missclass_vs_num_layers_by_num_neurons_activationrelu.png',\n",
       " '/home/crux/Repositories/GitHub/PerplexityLab/src/examples/MLLab/plot_lineplot_paletteSet1_missclass_vs_num_layers_by_num_neurons_activationtanh.png']"
      ]
     },
     "execution_count": 37,
     "metadata": {},
     "output_type": "execute_result"
    }
   ],
   "source": [
    "import seaborn as sns\n",
    "from src.miscellaneous import NamedPartial\n",
    "\n",
    "generic_plot(\n",
    "    data_manager=dm, \n",
    "    x=\"num_layers\", \n",
    "    y=\"missclass\", \n",
    "    label=\"num_neurons\", \n",
    "    missclass=lambda missclassification_error: np.mean(missclassification_error)*100, \n",
    "    plot_func=NamedPartial(sns.lineplot, palette=\"Set1\"),\n",
    "    axes_by=[\"p_train\"],\n",
    "    plot_by=[\"activation\"],\n",
    "    savefig=False,\n",
    "    axes_xy_proportions=(5, 3)\n",
    ")"
   ]
  },
  {
   "cell_type": "markdown",
   "metadata": {},
   "source": [
    "### CO2 and Energy consumption information"
   ]
  },
  {
   "cell_type": "code",
   "execution_count": 32,
   "metadata": {},
   "outputs": [
    {
     "name": "stdout",
     "output_type": "stream",
     "text": [
      "The approximated CO2 produced during this experiments was:  2.7352977272947952e-05 kg\n",
      "The approximated energy consumption during this experiments was:  0.000405049271034271 kWh\n",
      "The approximated computation time spent during this experiments was:  33.83733567794164 m\n"
     ]
    }
   ],
   "source": [
    "print(\"The approximated CO2 produced during this experiments was: \", dm.CO2kg, \"kg\")\n",
    "print(\"The approximated energy consumption during this experiments was: \", dm.electricity_consumption_kWh, \"kWh\")\n",
    "print(\"The approximated computation time spent during this experiments was: \", dm.computation_time_s/60, \"m\")"
   ]
  },
  {
   "cell_type": "markdown",
   "metadata": {},
   "source": [
    "For more detailed information about the consumption and time spent in each processing layer or plotting you can access directly to the DataFrame grouped by experiment or layer."
   ]
  },
  {
   "cell_type": "code",
   "execution_count": 33,
   "metadata": {},
   "outputs": [
    {
     "data": {
      "text/html": [
       "<div>\n",
       "<style scoped>\n",
       "    .dataframe tbody tr th:only-of-type {\n",
       "        vertical-align: middle;\n",
       "    }\n",
       "\n",
       "    .dataframe tbody tr th {\n",
       "        vertical-align: top;\n",
       "    }\n",
       "\n",
       "    .dataframe thead th {\n",
       "        text-align: right;\n",
       "    }\n",
       "</style>\n",
       "<table border=\"1\" class=\"dataframe\">\n",
       "  <thead>\n",
       "    <tr style=\"text-align: right;\">\n",
       "      <th></th>\n",
       "      <th></th>\n",
       "      <th>duration(s)</th>\n",
       "      <th>power_consumption(kWh)</th>\n",
       "      <th>CO2_emissions(kg)</th>\n",
       "    </tr>\n",
       "    <tr>\n",
       "      <th>experiment</th>\n",
       "      <th>computation_layer</th>\n",
       "      <th></th>\n",
       "      <th></th>\n",
       "      <th></th>\n",
       "    </tr>\n",
       "  </thead>\n",
       "  <tbody>\n",
       "    <tr>\n",
       "      <th rowspan=\"4\" valign=\"top\">MLLab</th>\n",
       "      <th>analysis</th>\n",
       "      <td>1.565820</td>\n",
       "      <td>2.535138e-08</td>\n",
       "      <td>1.711979e-09</td>\n",
       "    </tr>\n",
       "    <tr>\n",
       "      <th>figures</th>\n",
       "      <td>746.830325</td>\n",
       "      <td>3.510749e-04</td>\n",
       "      <td>2.370809e-05</td>\n",
       "    </tr>\n",
       "    <tr>\n",
       "      <th>preprocessing</th>\n",
       "      <td>1.372989</td>\n",
       "      <td>2.037603e-08</td>\n",
       "      <td>1.375994e-09</td>\n",
       "    </tr>\n",
       "    <tr>\n",
       "      <th>train</th>\n",
       "      <td>1280.471007</td>\n",
       "      <td>5.392860e-05</td>\n",
       "      <td>3.641798e-06</td>\n",
       "    </tr>\n",
       "  </tbody>\n",
       "</table>\n",
       "</div>"
      ],
      "text/plain": [
       "                              duration(s)  power_consumption(kWh)  \\\n",
       "experiment computation_layer                                        \n",
       "MLLab      analysis              1.565820            2.535138e-08   \n",
       "           figures             746.830325            3.510749e-04   \n",
       "           preprocessing         1.372989            2.037603e-08   \n",
       "           train              1280.471007            5.392860e-05   \n",
       "\n",
       "                              CO2_emissions(kg)  \n",
       "experiment computation_layer                     \n",
       "MLLab      analysis                1.711979e-09  \n",
       "           figures                 2.370809e-05  \n",
       "           preprocessing           1.375994e-09  \n",
       "           train                   3.641798e-06  "
      ]
     },
     "execution_count": 33,
     "metadata": {},
     "output_type": "execute_result"
    }
   ],
   "source": [
    "dm.get_emissions_summary(group_by_experiment=True, group_by_layer=True)"
   ]
  }
 ],
 "metadata": {
  "kernelspec": {
   "display_name": "Python 3 (ipykernel)",
   "language": "python",
   "name": "python3"
  },
  "language_info": {
   "codemirror_mode": {
    "name": "ipython",
    "version": 3
   },
   "file_extension": ".py",
   "mimetype": "text/x-python",
   "name": "python",
   "nbconvert_exporter": "python",
   "pygments_lexer": "ipython3",
   "version": "3.8.8"
  }
 },
 "nbformat": 4,
 "nbformat_minor": 1
}
